{
 "cells": [
  {
   "cell_type": "markdown",
   "metadata": {},
   "source": [
    "# Lens models\n",
    "\n",
    "Currently, `pyplz` supports one class of lens models: the power-law elliptical mass distribution (PEMD, indicated as `powerlaw` in the configuration file).\n",
    "\n",
    "It takes 5 parameters: `x, y, b, q, pa, eta`. `x, y` indicate the centroid, in pixel units. `q` is the axis ratio (minor to major) of the elliptical isodensity contours. `pa` is the position angle of the major axis with respect to the x-axis, in degrees. `b` is the lens strength and `eta` is the negative power-law index of the surface mass density profile.\n",
    "\n",
    "## SIE\n",
    "\n",
    "For `eta=1`, the model reduces to a singular isothermal elliptical (SIE) mass distribution.\n",
    "In a coordinate frame with the origin on the lens centroid and x-axis aligned with the lens major axis, the surface mass density profile of an SIE is\n",
    "\n",
    "$\\kappa(x, y) = \\dfrac{b}{2\\sqrt{qx^2 + y^2/q}}$\n",
    "\n",
    "where $b$ is the Einstein radius."
   ]
  },
  {
   "cell_type": "code",
   "execution_count": null,
   "metadata": {},
   "outputs": [],
   "source": []
  }
 ],
 "metadata": {
  "kernelspec": {
   "display_name": "Python 2",
   "language": "python",
   "name": "python2"
  },
  "language_info": {
   "codemirror_mode": {
    "name": "ipython",
    "version": 2
   },
   "file_extension": ".py",
   "mimetype": "text/x-python",
   "name": "python",
   "nbconvert_exporter": "python",
   "pygments_lexer": "ipython2",
   "version": "2.7.15"
  }
 },
 "nbformat": 4,
 "nbformat_minor": 2
}
